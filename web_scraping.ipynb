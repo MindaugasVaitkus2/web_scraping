{
 "cells": [
  {
   "cell_type": "markdown",
   "metadata": {},
   "source": [
    "# Web Scraping 101"
   ]
  },
  {
   "cell_type": "markdown",
   "metadata": {},
   "source": [
    "## Method for getting data on the front of a website"
   ]
  },
  {
   "cell_type": "markdown",
   "metadata": {},
   "source": [
    "### Methods of getting data from a website\n",
    "1. Backend Access\n",
    "1. API\n",
    "1. Web scrapping"
   ]
  },
  {
   "cell_type": "markdown",
   "metadata": {},
   "source": [
    "## Website Design Basics\n",
    "HTML, CSS, JavaScript"
   ]
  },
  {
   "cell_type": "markdown",
   "metadata": {},
   "source": [
    "### HTML - Structure/Content"
   ]
  },
  {
   "cell_type": "code",
   "execution_count": 1,
   "metadata": {},
   "outputs": [
    {
     "data": {
      "text/html": [
       "<!DOCTYPE html>\n",
       "<html>\n",
       "\n",
       "<head>\n",
       "<title>Page Title</title>\n",
       "</head>\n",
       "\n",
       "<body>\n",
       "\n",
       "<h1>Heading 1</h1>\n",
       "<h2>Heading 2</h2>\n",
       "\n",
       "<p>This is a paragraph.</p>\n",
       "\n",
       "\n",
       "</body>\n",
       "\n",
       "</html> \n"
      ],
      "text/plain": [
       "<IPython.core.display.HTML object>"
      ]
     },
     "metadata": {},
     "output_type": "display_data"
    }
   ],
   "source": [
    "%%HTML\n",
    "<!DOCTYPE html>\n",
    "<html>\n",
    "\n",
    "<head>\n",
    "<title>Page Title</title>\n",
    "</head>\n",
    "\n",
    "<body>\n",
    "\n",
    "<h1>Heading 1</h1>\n",
    "<h2>Heading 2</h2>\n",
    "\n",
    "<p>This is a paragraph.</p>\n",
    "\n",
    "\n",
    "</body>\n",
    "\n",
    "</html> "
   ]
  },
  {
   "cell_type": "markdown",
   "metadata": {},
   "source": [
    "### CSS - The looks"
   ]
  },
  {
   "cell_type": "raw",
   "metadata": {},
   "source": [
    "<style> ... </style>"
   ]
  },
  {
   "cell_type": "code",
   "execution_count": null,
   "metadata": {},
   "outputs": [],
   "source": []
  },
  {
   "cell_type": "markdown",
   "metadata": {},
   "source": [
    "### JavaScript - The logic"
   ]
  },
  {
   "cell_type": "raw",
   "metadata": {},
   "source": [
    "<script> ... </script>"
   ]
  },
  {
   "cell_type": "code",
   "execution_count": null,
   "metadata": {},
   "outputs": [],
   "source": []
  },
  {
   "cell_type": "markdown",
   "metadata": {},
   "source": [
    "# View the website structure on your browser\n",
    "1. View Source\n",
    "1. Inspect Object"
   ]
  },
  {
   "cell_type": "code",
   "execution_count": null,
   "metadata": {},
   "outputs": [],
   "source": []
  },
  {
   "cell_type": "markdown",
   "metadata": {},
   "source": [
    "### Getting the info from a webpage\n",
    "Target HTML tags   \n",
    "Target CSS tags (#id, .class)  "
   ]
  },
  {
   "cell_type": "code",
   "execution_count": null,
   "metadata": {},
   "outputs": [],
   "source": []
  },
  {
   "cell_type": "markdown",
   "metadata": {},
   "source": [
    "## Scraping Using Python"
   ]
  },
  {
   "cell_type": "markdown",
   "metadata": {},
   "source": [
    "Beautiful Soup 4  \n",
    "Scrapy  \n",
    "Selenium"
   ]
  },
  {
   "cell_type": "code",
   "execution_count": null,
   "metadata": {},
   "outputs": [],
   "source": [
    "#!pip install selenium"
   ]
  },
  {
   "cell_type": "code",
   "execution_count": null,
   "metadata": {},
   "outputs": [],
   "source": [
    "# https://anaconda.org/conda-forge/selenium"
   ]
  },
  {
   "cell_type": "code",
   "execution_count": 2,
   "metadata": {},
   "outputs": [],
   "source": [
    "#Some basic Selenium imports\n",
    "from selenium import webdriver\n",
    "from selenium.webdriver.common.keys import Keys\n",
    "import time\n",
    "import datetime"
   ]
  },
  {
   "cell_type": "code",
   "execution_count": null,
   "metadata": {},
   "outputs": [],
   "source": [
    "# Download browser drivers\n",
    "# https://www.seleniumhq.org/download/"
   ]
  },
  {
   "cell_type": "code",
   "execution_count": 3,
   "metadata": {},
   "outputs": [],
   "source": [
    "# Instantiate the driver. Remember the executable_path=...\n",
    "driver = webdriver.Firefox(executable_path=r\"C:\\path\\to\\geckodriver.exe\") # Opens Firefox"
   ]
  },
  {
   "cell_type": "code",
   "execution_count": 4,
   "metadata": {},
   "outputs": [],
   "source": [
    "# Let's visit a website\n",
    "driver.get(\"http://example.com\")"
   ]
  },
  {
   "cell_type": "markdown",
   "metadata": {},
   "source": [
    "### Example 1, Basic Website"
   ]
  },
  {
   "cell_type": "code",
   "execution_count": null,
   "metadata": {},
   "outputs": [],
   "source": [
    "# single\n",
    "#driver.find_element_by_...\n",
    "# multiple\n",
    "#driver.find_elements_by_..."
   ]
  },
  {
   "cell_type": "code",
   "execution_count": 5,
   "metadata": {},
   "outputs": [],
   "source": [
    "heading = driver.find_element_by_tag_name(\"h1\")"
   ]
  },
  {
   "cell_type": "code",
   "execution_count": 8,
   "metadata": {},
   "outputs": [
    {
     "name": "stdout",
     "output_type": "stream",
     "text": [
      "Example Domain\n"
     ]
    }
   ],
   "source": [
    "print(heading.text)"
   ]
  },
  {
   "cell_type": "code",
   "execution_count": null,
   "metadata": {},
   "outputs": [],
   "source": []
  },
  {
   "cell_type": "markdown",
   "metadata": {},
   "source": [
    "## Example 2, Fill in a form field"
   ]
  },
  {
   "cell_type": "code",
   "execution_count": 9,
   "metadata": {},
   "outputs": [],
   "source": [
    "driver.get(\"https://www.google.co.za\")"
   ]
  },
  {
   "cell_type": "code",
   "execution_count": 12,
   "metadata": {},
   "outputs": [],
   "source": [
    "search_box = driver.find_element_by_name('q')"
   ]
  },
  {
   "cell_type": "code",
   "execution_count": 13,
   "metadata": {},
   "outputs": [],
   "source": [
    "search_box.send_keys('Explore Academy')"
   ]
  },
  {
   "cell_type": "code",
   "execution_count": 14,
   "metadata": {},
   "outputs": [],
   "source": [
    "search_box.submit()"
   ]
  },
  {
   "cell_type": "markdown",
   "metadata": {},
   "source": [
    "### Example 3, Loggin into a website"
   ]
  },
  {
   "cell_type": "code",
   "execution_count": 15,
   "metadata": {},
   "outputs": [],
   "source": [
    "driver.get(\"https://athena2.explore-datascience.net/\")"
   ]
  },
  {
   "cell_type": "code",
   "execution_count": 16,
   "metadata": {},
   "outputs": [],
   "source": [
    "# find userneme field\n",
    "uname_field = driver.find_element_by_id('username')"
   ]
  },
  {
   "cell_type": "code",
   "execution_count": 17,
   "metadata": {},
   "outputs": [],
   "source": [
    "# type username\n",
    "uname_field.send_keys(\"my_email@gmail.com\")"
   ]
  },
  {
   "cell_type": "code",
   "execution_count": 18,
   "metadata": {},
   "outputs": [],
   "source": [
    "# find password field\n",
    "pword_field = driver.find_element_by_id('password')"
   ]
  },
  {
   "cell_type": "code",
   "execution_count": 19,
   "metadata": {},
   "outputs": [],
   "source": [
    "# type password\n",
    "pword_field.send_keys(\"my_password\")"
   ]
  },
  {
   "cell_type": "code",
   "execution_count": 20,
   "metadata": {},
   "outputs": [],
   "source": [
    "# find login button\n",
    "login_button = driver.find_element_by_tag_name('button')"
   ]
  },
  {
   "cell_type": "code",
   "execution_count": 21,
   "metadata": {},
   "outputs": [],
   "source": [
    "# click login\n",
    "login_button.click()"
   ]
  },
  {
   "cell_type": "code",
   "execution_count": null,
   "metadata": {},
   "outputs": [],
   "source": [
    "# close the browser\n",
    "driver.close()"
   ]
  },
  {
   "cell_type": "markdown",
   "metadata": {},
   "source": [
    "### Exampe 4, Let's go shopping"
   ]
  },
  {
   "cell_type": "code",
   "execution_count": 22,
   "metadata": {},
   "outputs": [],
   "source": [
    "driver.get(\"https://www.takealot.com/\")"
   ]
  },
  {
   "cell_type": "code",
   "execution_count": 23,
   "metadata": {},
   "outputs": [],
   "source": [
    "search_bar = driver.find_element_by_id(\"search\")"
   ]
  },
  {
   "cell_type": "code",
   "execution_count": 24,
   "metadata": {},
   "outputs": [],
   "source": [
    "search_bar.send_keys(\"dell xps 15\")"
   ]
  },
  {
   "cell_type": "code",
   "execution_count": 25,
   "metadata": {},
   "outputs": [],
   "source": [
    "search_bar.submit()"
   ]
  },
  {
   "cell_type": "code",
   "execution_count": 26,
   "metadata": {},
   "outputs": [],
   "source": [
    "data = driver.find_element_by_css_selector(\"div.p-data.left\")"
   ]
  },
  {
   "cell_type": "code",
   "execution_count": 27,
   "metadata": {},
   "outputs": [
    {
     "data": {
      "text/plain": [
       "'DELL XPS 15 Core i7-8750H 15.6\" FHD Notebook - Black\\n8GB | 256 | 4GFX | Win 10 Pro\\nR 33,909R 34,999i\\neB 339,090Discovery Miles 339,090\\nIn Stock\\nCPT | \\nJHB'"
      ]
     },
     "execution_count": 27,
     "metadata": {},
     "output_type": "execute_result"
    }
   ],
   "source": [
    "data.text"
   ]
  },
  {
   "cell_type": "code",
   "execution_count": null,
   "metadata": {},
   "outputs": [],
   "source": []
  },
  {
   "cell_type": "code",
   "execution_count": 28,
   "metadata": {},
   "outputs": [],
   "source": [
    "# let's take everything\n",
    "all_data = driver.find_elements_by_css_selector(\"div.p-data.left\")"
   ]
  },
  {
   "cell_type": "code",
   "execution_count": 29,
   "metadata": {},
   "outputs": [
    {
     "name": "stdout",
     "output_type": "stream",
     "text": [
      "DELL XPS 15 Core i7-8750H 15.6\" FHD Notebook - Black\n",
      "8GB | 256 | 4GFX | Win 10 Pro\n",
      "R 33,909R 34,999i\n",
      "eB 339,090Discovery Miles 339,090\n",
      "In Stock\n",
      "CPT | \n",
      "JHB\n",
      "Dell XPS 9570 15\" Intel Core i7-8750H 32GB - Notebook\n",
      "32GB Ram | 1024GB SSD | Win 10 Pro\n",
      "R 53,499\n",
      "eB 534,990Discovery Miles 534,990\n",
      "Shipped in 3 - 5 working days\n",
      "Sold by Click Tek - Fulfilled by Takealot\n",
      "Dell XPS 9570 15\" Intel Core i7-8750H 16GB - Notebook\n",
      "16GB Ram | 512GB SSD | Win 10 Pro\n",
      "R 42,999R 43,999i\n",
      "eB 429,990Discovery Miles 429,990\n",
      "Shipped in 3 - 5 working days\n",
      "DELL XPS 15 Core i5-8300H 15.6\" FHD Notebook - Black\n",
      "8GB | 1TB+128 | 4GFX | Win 10 Pro\n",
      "R 31,629\n",
      "eB 316,290Discovery Miles 316,290\n",
      "In Stock\n",
      "JHB\n",
      "Dell XPS 13 9370 Intel Core i7-8550U 13.3\" Notebook\n",
      "8GB | 256GB SSD | Win10 Pro\n",
      "R 33,999R 35,999i\n",
      "eB 339,990Discovery Miles 339,990\n",
      "In Stock\n",
      "CPT\n",
      "Dell XPS 15 9570 Core i5-8300H 15.6\" Notebook - Silver\n",
      "8GB | 128GB | Win10\n",
      "R 28,999R 29,999i\n",
      "eB 289,990Discovery Miles 289,990\n",
      "In Stock\n",
      "CPT\n",
      "Dell G3 Core i7-8750H 15.6\" Gaming Notebook - Black\n",
      "16GB | 256GB SSD+1TB | 4GB GTX-1050Ti\n",
      "R 19,999R 20,999i\n",
      "eB 199,990Discovery Miles 199,990On Credit: R 1,858 / monthi\n",
      "In Stock\n",
      "CPT | \n",
      "JHB\n",
      "Dell XPS 13 9380 13.3\" Core i5-8265U Notebook - Silver\n",
      "8GB|256GBSSD|WIN10S\n",
      "R 19,999R 22,499i\n",
      "eB 199,990Discovery Miles 199,990On Credit: R 1,858 / monthi\n",
      "In Stock\n",
      "JHB\n",
      "DELL XPS 15 Intel Core i7 15.6\" 2-IN-1 UHD Notebook\n",
      "16GB Ram | 512GB SSD | Win 10 Pro\n",
      "R 49,579R 50,331i\n",
      "eB 495,790Discovery Miles 495,790\n",
      "Shipped in 3 - 5 working days\n",
      "Dell XPS 13 9370 Intel Core i7-8550U 13.3\" Notebook - Silver\n",
      "8GB | 256GB SSD | Win10 Home\n",
      "R 27,659R 28,999i\n",
      "eB 276,590Discovery Miles 276,590\n",
      "In Stock\n",
      "JHB\n",
      "Dell Inspiron 3580 Core i7-8565U 15.6\" Notebook - Black\n",
      "8GB | 1TB | WIN10\n",
      "R 12,499\n",
      "eB 124,990Discovery Miles 124,990On Credit: R 1,161 / monthi\n",
      "In Stock\n",
      "CPT | \n",
      "JHB\n",
      "Dell Inspiron 3567 Intel Core i3-7020U 15.6\" Notebook - Black\n",
      "4GB | 1TB | Win10\n",
      "R 7,229\n",
      "eB 72,290Discovery Miles 72,290On Credit: R 672 / monthi\n",
      "In Stock\n",
      "CPT | \n",
      "JHB\n",
      "Dell XPS 13 9370 Intel Core i7-8550U 13.3\" Notebook\n",
      "R 40,999R 43,999i\n",
      "eB 409,990Discovery Miles 409,990\n",
      "In Stock\n",
      "CPT\n",
      "Dell Inspiron 3580 15.6\" Core i5-8265U Notebook - Black\n",
      "8GB|1TB|WIN10\n",
      "R 8,999R 9,999i\n",
      "eB 89,990Discovery Miles 89,990On Credit: R 836 / monthi\n",
      "Shipped in 5 - 7 working days\n",
      "Dell XPS 13 (9365) Core i5-7Y54 13.3\" Notebook - Silver Bundle\n",
      "8GB | 256GB SSD | Win10 Home | Includes MS Office 365\n",
      "R 23,499R 23,999i\n",
      "eB 234,990Discovery Miles 234,990\n",
      "In Stock\n",
      "CPT\n",
      "Dell 5570 i7-8550U 15.6\" Notebook - Silver\n",
      "NBDEI5570I781W10S1Y\n",
      "R 16,615R 17,543i\n",
      "eB 166,150Discovery Miles 166,150On Credit: R 1,544 / monthi\n",
      "In Stock\n",
      "JHB\n",
      "DELL XPS 13 (9370) Core i7-8550U 13.3\" Notebook - Silver\n",
      "NBDEX1370UI71651210S\n",
      "R 35,499R 36,829i\n",
      "eB 354,990Discovery Miles 354,990\n",
      "In Stock\n",
      "CPT\n",
      "Dell XPS 13 9370 Intel Core i5-8250U 13.3'' FHD Notebook - Silver\n",
      "XPS13-9370-I58250U-8256-WPRO\n",
      "R 25,999\n",
      "eB 259,990Discovery Miles 259,990\n",
      "In Stock\n",
      "CPT | \n",
      "JHB\n",
      "Dell G3 Core i7-8750H 15.6\" Gaming Notebook - Black\n",
      "16GB 256GB SSD+1TB 6GB GFX-1060\n",
      "R 28,265R 29,213i\n",
      "eB 282,650Discovery Miles 282,650\n",
      "In Stock\n",
      "JHB\n",
      "Dell XPS 12.5\" TOUCH 9250 - Black\n",
      "NBDEX12M76Y758512W10\n",
      "In stock - shipped from CPT\n"
     ]
    }
   ],
   "source": [
    "for i in all_data:\n",
    "    print(i.text)"
   ]
  },
  {
   "cell_type": "markdown",
   "metadata": {},
   "source": [
    "### Load the info on to a DataFrame"
   ]
  },
  {
   "cell_type": "code",
   "execution_count": 33,
   "metadata": {},
   "outputs": [],
   "source": [
    "import pandas as pd"
   ]
  },
  {
   "cell_type": "code",
   "execution_count": 34,
   "metadata": {},
   "outputs": [],
   "source": [
    "df = pd.DataFrame(columns=['result'])"
   ]
  },
  {
   "cell_type": "code",
   "execution_count": 35,
   "metadata": {},
   "outputs": [],
   "source": [
    "for i in all_data:\n",
    "    df = df.append({'result' : i.text} , ignore_index=True)"
   ]
  },
  {
   "cell_type": "code",
   "execution_count": 36,
   "metadata": {},
   "outputs": [
    {
     "data": {
      "text/plain": [
       "(20, 1)"
      ]
     },
     "execution_count": 36,
     "metadata": {},
     "output_type": "execute_result"
    }
   ],
   "source": [
    "df.shape"
   ]
  },
  {
   "cell_type": "code",
   "execution_count": 37,
   "metadata": {},
   "outputs": [
    {
     "data": {
      "text/html": [
       "<div>\n",
       "<style scoped>\n",
       "    .dataframe tbody tr th:only-of-type {\n",
       "        vertical-align: middle;\n",
       "    }\n",
       "\n",
       "    .dataframe tbody tr th {\n",
       "        vertical-align: top;\n",
       "    }\n",
       "\n",
       "    .dataframe thead th {\n",
       "        text-align: right;\n",
       "    }\n",
       "</style>\n",
       "<table border=\"1\" class=\"dataframe\">\n",
       "  <thead>\n",
       "    <tr style=\"text-align: right;\">\n",
       "      <th></th>\n",
       "      <th>result</th>\n",
       "    </tr>\n",
       "  </thead>\n",
       "  <tbody>\n",
       "    <tr>\n",
       "      <th>0</th>\n",
       "      <td>DELL XPS 15 Core i7-8750H 15.6\" FHD Notebook -...</td>\n",
       "    </tr>\n",
       "    <tr>\n",
       "      <th>1</th>\n",
       "      <td>Dell XPS 9570 15\" Intel Core i7-8750H 32GB - N...</td>\n",
       "    </tr>\n",
       "    <tr>\n",
       "      <th>2</th>\n",
       "      <td>Dell XPS 9570 15\" Intel Core i7-8750H 16GB - N...</td>\n",
       "    </tr>\n",
       "    <tr>\n",
       "      <th>3</th>\n",
       "      <td>DELL XPS 15 Core i5-8300H 15.6\" FHD Notebook -...</td>\n",
       "    </tr>\n",
       "    <tr>\n",
       "      <th>4</th>\n",
       "      <td>Dell XPS 13 9370 Intel Core i7-8550U 13.3\" Not...</td>\n",
       "    </tr>\n",
       "  </tbody>\n",
       "</table>\n",
       "</div>"
      ],
      "text/plain": [
       "                                              result\n",
       "0  DELL XPS 15 Core i7-8750H 15.6\" FHD Notebook -...\n",
       "1  Dell XPS 9570 15\" Intel Core i7-8750H 32GB - N...\n",
       "2  Dell XPS 9570 15\" Intel Core i7-8750H 16GB - N...\n",
       "3  DELL XPS 15 Core i5-8300H 15.6\" FHD Notebook -...\n",
       "4  Dell XPS 13 9370 Intel Core i7-8550U 13.3\" Not..."
      ]
     },
     "execution_count": 37,
     "metadata": {},
     "output_type": "execute_result"
    }
   ],
   "source": [
    "df.head()"
   ]
  },
  {
   "cell_type": "code",
   "execution_count": null,
   "metadata": {},
   "outputs": [],
   "source": []
  },
  {
   "cell_type": "code",
   "execution_count": 38,
   "metadata": {},
   "outputs": [],
   "source": [
    "# searching multiple pages\n",
    "next_page = driver.find_element_by_css_selector(\"a.page-next\")"
   ]
  },
  {
   "cell_type": "code",
   "execution_count": 39,
   "metadata": {},
   "outputs": [],
   "source": [
    "next_page.click()"
   ]
  },
  {
   "cell_type": "code",
   "execution_count": 40,
   "metadata": {},
   "outputs": [],
   "source": [
    "all_data = driver.find_elements_by_css_selector(\"div.p-data.left\")"
   ]
  },
  {
   "cell_type": "code",
   "execution_count": 41,
   "metadata": {},
   "outputs": [],
   "source": [
    "for i in all_data:\n",
    "    df = df.append({'result' : i.text} , ignore_index=True)"
   ]
  },
  {
   "cell_type": "code",
   "execution_count": 42,
   "metadata": {},
   "outputs": [
    {
     "data": {
      "text/plain": [
       "(40, 1)"
      ]
     },
     "execution_count": 42,
     "metadata": {},
     "output_type": "execute_result"
    }
   ],
   "source": [
    "df.shape"
   ]
  },
  {
   "cell_type": "code",
   "execution_count": 43,
   "metadata": {},
   "outputs": [],
   "source": [
    "# Export to csv\n",
    "df.to_csv('xps15_prices.csv')"
   ]
  },
  {
   "cell_type": "code",
   "execution_count": null,
   "metadata": {},
   "outputs": [],
   "source": [
    "# https://selenium-python.readthedocs.io/locating-elements.html"
   ]
  },
  {
   "cell_type": "code",
   "execution_count": 44,
   "metadata": {},
   "outputs": [],
   "source": [
    "# close the browser\n",
    "driver.close()"
   ]
  },
  {
   "cell_type": "markdown",
   "metadata": {},
   "source": [
    "# References\n",
    "https://www.w3schools.com/html/  \n",
    "https://selenium-python.readthedocs.io/  \n",
    "https://www.w3schools.com/tags/ref_byfunc.asp   \n",
    "https://selenium-python.readthedocs.io/locating-elements.html  "
   ]
  },
  {
   "cell_type": "code",
   "execution_count": null,
   "metadata": {},
   "outputs": [],
   "source": []
  }
 ],
 "metadata": {
  "kernelspec": {
   "display_name": "Python 3",
   "language": "python",
   "name": "python3"
  },
  "language_info": {
   "codemirror_mode": {
    "name": "ipython",
    "version": 3
   },
   "file_extension": ".py",
   "mimetype": "text/x-python",
   "name": "python",
   "nbconvert_exporter": "python",
   "pygments_lexer": "ipython3",
   "version": "3.7.3"
  }
 },
 "nbformat": 4,
 "nbformat_minor": 2
}
